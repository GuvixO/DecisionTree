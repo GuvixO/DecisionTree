{
 "cells": [
  {
   "cell_type": "code",
   "execution_count": 1,
   "id": "faa2cf33-85dd-4cf4-b78e-8d5e8e50a44e",
   "metadata": {
    "tags": []
   },
   "outputs": [],
   "source": [
    "import pandas as pd\n",
    "import math as m"
   ]
  },
  {
   "cell_type": "code",
   "execution_count": null,
   "id": "06643514-b2e6-4ade-9b22-81dee077b5f3",
   "metadata": {},
   "outputs": [],
   "source": [
    "class DecisionTree ():\n",
    "    def __init__(self):\n",
    "        # self.max_depth = max_depth\n",
    "        \n",
    "    def fit (data, target_feature , entropy = 1, last_node = ''):\n",
    "        tree = {}\n",
    "        split_param = []\n",
    "        for feature in data.column():\n",
    "            for num in range(min(data[feature], max(data[feature]))):\n",
    "                left = data[data[feature] < num]\n",
    "                right = data[data[feature] >= num]\n",
    "                if entropy > (E(left,target_feature) + E(right, target_feature))/2:\n",
    "                    split_param = [feature, num]\n",
    "        # split(*split_param)\n",
    "        tree[last_node] = split_param\n",
    "        left = data[data[split_param[0]] < split_param[1]]\n",
    "        right = data[data[split_param[0]] >= split_param[1]]\n",
    "        return fit(left, E(left), last_node+='1'), fit(right, E(right), last_node+='0')\n",
    "    \n",
    "    def E(new_data, feature):\n",
    "        entropy = 0\n",
    "        for values, counts in new_data[feature].value_counts():\n",
    "            entrory -= counts/len(new_data[feature]) * m.log(counts/len(new_data[feature]))\n",
    "        return entropy\n",
    "    \n",
    "    def predict"
   ]
  },
  {
   "cell_type": "code",
   "execution_count": 3,
   "id": "efd93b8a-65cd-427e-99af-26e1e8598ac8",
   "metadata": {
    "tags": []
   },
   "outputs": [
    {
     "ename": "TypeError",
     "evalue": "'float' object cannot be interpreted as an integer",
     "output_type": "error",
     "traceback": [
      "\u001b[1;31m---------------------------------------------------------------------------\u001b[0m",
      "\u001b[1;31mTypeError\u001b[0m                                 Traceback (most recent call last)",
      "Cell \u001b[1;32mIn[3], line 1\u001b[0m\n\u001b[1;32m----> 1\u001b[0m \u001b[38;5;28mprint\u001b[39m(\u001b[38;5;28;43mrange\u001b[39;49m\u001b[43m(\u001b[49m\u001b[38;5;241;43m1\u001b[39;49m\u001b[43m,\u001b[49m\u001b[38;5;241;43m1.5\u001b[39;49m\u001b[43m,\u001b[49m\u001b[38;5;241;43m0.1\u001b[39;49m\u001b[43m)\u001b[49m)\n",
      "\u001b[1;31mTypeError\u001b[0m: 'float' object cannot be interpreted as an integer"
     ]
    }
   ],
   "source": []
  },
  {
   "cell_type": "code",
   "execution_count": 6,
   "id": "b7591c4c-72fb-492a-8139-487eba9cf287",
   "metadata": {
    "tags": []
   },
   "outputs": [
    {
     "name": "stdout",
     "output_type": "stream",
     "text": [
      "1 5 3\n"
     ]
    }
   ],
   "source": [
    "print(*[1,5,3])"
   ]
  },
  {
   "cell_type": "code",
   "execution_count": null,
   "id": "4715c6b2-9f12-401e-a0fe-568d81fde730",
   "metadata": {},
   "outputs": [],
   "source": []
  }
 ],
 "metadata": {
  "kernelspec": {
   "display_name": "Python 3 (ipykernel)",
   "language": "python",
   "name": "python3"
  },
  "language_info": {
   "codemirror_mode": {
    "name": "ipython",
    "version": 3
   },
   "file_extension": ".py",
   "mimetype": "text/x-python",
   "name": "python",
   "nbconvert_exporter": "python",
   "pygments_lexer": "ipython3",
   "version": "3.11.9"
  }
 },
 "nbformat": 4,
 "nbformat_minor": 5
}
